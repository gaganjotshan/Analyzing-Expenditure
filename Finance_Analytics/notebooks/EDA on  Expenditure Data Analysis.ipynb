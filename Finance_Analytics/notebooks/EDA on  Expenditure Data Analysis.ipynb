{
 "cells": [
  {
   "cell_type": "markdown",
   "id": "e7a582ee",
   "metadata": {},
   "source": [
    "\n",
    "# Expenditure Data Analysis Project\n",
    "\n",
    "## Table of Contents:\n",
    "\n",
    "1. [Problem statements:](#section1)<br>\n",
    "2. [Data Description:](#section2)<br>\n",
    "    - 2.1 [Introduction](#section201)<br/>\n",
    "    - 2.2 [Data source and data set](#section202)<br/>\n",
    "3. [Load the Packages and Data](#section3)\n",
    "4. [Data Profiling:](#section4)\n",
    "    - 4.1 [Understanding the Dataset](#section401)<br/>\n",
    "    - 4.2 [Pre Profiling](#section402)<br/>\n",
    "    - 4.3 [Preprocessing](#section403)<br/>\n",
    "    - 4.4 [Post Profiling](#section404)<br/>\n",
    "5. [Data Visualization:](#section5)\n",
    "6. [Conclusions:](#section6)<br/>  "
   ]
  },
  {
   "cell_type": "markdown",
   "id": "0dc439be",
   "metadata": {},
   "source": [
    "## 1. Problem statements:\n",
    "<a id=section1></a>\n",
    "No business can survive in this competitive market without managing their cost. It does not matter if revenues are high but if\n",
    "cost is higher it is a red flag. So you are tasked to help management in creating and establishing new structure and models to reduce cost.\n",
    "\n",
    "## 2. Data Description:\n",
    "<a id=section2></a>\n",
    "- **Exp Category**:Gives the description about expenditure Category.\n",
    "- **State**: Gives the description about States and UTs of India.\n",
    "- **Year**: Gives the description about Year.\n",
    "- **Value**: Gives the description about expenditure spending in millions.\n",
    "\n",
    "The dataset as collected from National Institution for Transforming India from 1980_81 to 2015_16. That is colllected by using web scraping.\n",
    "\n",
    "### 2.1. Introduction:\n",
    "An Expenditure Data Analysisis the project related to Exploratory data analysis(EDA)and Data visualization of expenditure dataset from **NITI Aayog** of India. I have used python libraries to get expenditure information, visualize different aspects of it, and finally I worked at a few ways of analyzing the spending of expenditure based on its previous performance history statewise in India. \n",
    "The **NITI Aayog**(National Institution for Transforming India) serves as the apex public policy think tank of the Government of India, and the nodal agency tasked with catalyzing economic development, and fostering cooperative federalism through the involvement of State Governments of India in the economic policy-making process using a bottom-up approach\n",
    "<a id=section2.1></a>\n",
    "\n",
    "### 2.2. Data source and data set:\n",
    "The dataset as listed on NITI Aayog website from 1980_81 to 2015_16. That is colllected by using web scraping.\n",
    "\n",
    "<a id=section.22></a>\n",
    "\n",
    "You can find the dataset on the given link.\n",
    "https://www.niti.gov.in/\n",
    "\n",
    "### Approach\n",
    "The main goal of the project is to find key metrics and factors and show the meaningful relationships between attributes based on different features available in the dataset.\n",
    "\n",
    "- **Do ETL** : Extract-Transform-Load the dataset and find for  some information from this large data. This is form of data mining.\n"
   ]
  },
  {
   "cell_type": "markdown",
   "id": "dd4681fb",
   "metadata": {},
   "source": [
    "### 3. Load the Packages and Data\n",
    "<a id=section3></a>\n"
   ]
  },
  {
   "cell_type": "markdown",
   "id": "2492331e",
   "metadata": {},
   "source": [
    "#### 1.  Import libraries"
   ]
  },
  {
   "cell_type": "code",
   "execution_count": 1,
   "id": "eee779b3",
   "metadata": {},
   "outputs": [],
   "source": [
    "import pandas as pd\n",
    "import numpy as np\n",
    "import matplotlib.pyplot as plt\n",
    "import seaborn as sns\n",
    "import warnings\n",
    "\n",
    "warnings.filterwarnings('ignore')\n",
    "%matplotlib inline\n",
    "sns.set()"
   ]
  },
  {
   "cell_type": "markdown",
   "id": "429eeb4e",
   "metadata": {},
   "source": [
    "#### 2. Loading Final Selection of data"
   ]
  },
  {
   "cell_type": "code",
   "execution_count": 2,
   "id": "ae7d60c0",
   "metadata": {},
   "outputs": [
    {
     "data": {
      "text/html": [
       "<div>\n",
       "<style scoped>\n",
       "    .dataframe tbody tr th:only-of-type {\n",
       "        vertical-align: middle;\n",
       "    }\n",
       "\n",
       "    .dataframe tbody tr th {\n",
       "        vertical-align: top;\n",
       "    }\n",
       "\n",
       "    .dataframe thead th {\n",
       "        text-align: right;\n",
       "    }\n",
       "</style>\n",
       "<table border=\"1\" class=\"dataframe\">\n",
       "  <thead>\n",
       "    <tr style=\"text-align: right;\">\n",
       "      <th></th>\n",
       "      <th>Exp Category</th>\n",
       "      <th>State</th>\n",
       "      <th>Year</th>\n",
       "      <th>Value</th>\n",
       "    </tr>\n",
       "  </thead>\n",
       "  <tbody>\n",
       "    <tr>\n",
       "      <th>0</th>\n",
       "      <td>Aggregate_Expenditure</td>\n",
       "      <td>Andhra Pradesh</td>\n",
       "      <td>1980-81</td>\n",
       "      <td>1610.0</td>\n",
       "    </tr>\n",
       "    <tr>\n",
       "      <th>1</th>\n",
       "      <td>Aggregate_Expenditure</td>\n",
       "      <td>Andhra Pradesh</td>\n",
       "      <td>1981-82</td>\n",
       "      <td>1831.0</td>\n",
       "    </tr>\n",
       "    <tr>\n",
       "      <th>2</th>\n",
       "      <td>Aggregate_Expenditure</td>\n",
       "      <td>Andhra Pradesh</td>\n",
       "      <td>1982-83</td>\n",
       "      <td>1933.0</td>\n",
       "    </tr>\n",
       "    <tr>\n",
       "      <th>3</th>\n",
       "      <td>Aggregate_Expenditure</td>\n",
       "      <td>Andhra Pradesh</td>\n",
       "      <td>1983-84</td>\n",
       "      <td>2588.0</td>\n",
       "    </tr>\n",
       "    <tr>\n",
       "      <th>4</th>\n",
       "      <td>Aggregate_Expenditure</td>\n",
       "      <td>Andhra Pradesh</td>\n",
       "      <td>1984-85</td>\n",
       "      <td>3119.0</td>\n",
       "    </tr>\n",
       "  </tbody>\n",
       "</table>\n",
       "</div>"
      ],
      "text/plain": [
       "            Exp Category            State     Year   Value\n",
       "0  Aggregate_Expenditure  Andhra Pradesh   1980-81  1610.0\n",
       "1  Aggregate_Expenditure  Andhra Pradesh   1981-82  1831.0\n",
       "2  Aggregate_Expenditure  Andhra Pradesh   1982-83  1933.0\n",
       "3  Aggregate_Expenditure  Andhra Pradesh   1983-84  2588.0\n",
       "4  Aggregate_Expenditure  Andhra Pradesh   1984-85  3119.0"
      ]
     },
     "execution_count": 2,
     "metadata": {},
     "output_type": "execute_result"
    }
   ],
   "source": [
    "expenditure = pd.read_csv(\"Final_expenditure.csv\")\n",
    "expenditure.head()"
   ]
  },
  {
   "cell_type": "markdown",
   "id": "25a4c576",
   "metadata": {},
   "source": [
    "### 4. Data Profiling:\n",
    "<a id=section4> </a>\n",
    "### 4.1. Understanding the Dataset"
   ]
  },
  {
   "cell_type": "code",
   "execution_count": 3,
   "id": "4c15b938",
   "metadata": {},
   "outputs": [
    {
     "data": {
      "text/plain": [
       "(8760, 4)"
      ]
     },
     "execution_count": 3,
     "metadata": {},
     "output_type": "execute_result"
    }
   ],
   "source": [
    "expenditure.shape # To know shape of dataset"
   ]
  },
  {
   "cell_type": "markdown",
   "id": "0f1574f0",
   "metadata": {},
   "source": [
    "-  Their are 8760 rows and 4 column in dataset after combining."
   ]
  },
  {
   "cell_type": "code",
   "execution_count": 4,
   "id": "6e885695",
   "metadata": {},
   "outputs": [
    {
     "data": {
      "text/plain": [
       "35040"
      ]
     },
     "execution_count": 4,
     "metadata": {},
     "output_type": "execute_result"
    }
   ],
   "source": [
    "expenditure.size       # to show the total no. of volume(elements)"
   ]
  },
  {
   "cell_type": "code",
   "execution_count": 5,
   "id": "e6a27195",
   "metadata": {},
   "outputs": [
    {
     "data": {
      "text/plain": [
       "Index(['Exp Category', 'State', 'Year', 'Value'], dtype='object')"
      ]
     },
     "execution_count": 5,
     "metadata": {},
     "output_type": "execute_result"
    }
   ],
   "source": [
    "expenditure.columns # to show eachh columns name in dataset"
   ]
  },
  {
   "cell_type": "code",
   "execution_count": 6,
   "id": "38e81a10",
   "metadata": {},
   "outputs": [
    {
     "data": {
      "text/plain": [
       "Exp Category     object\n",
       "State            object\n",
       "Year             object\n",
       "Value           float64\n",
       "dtype: object"
      ]
     },
     "execution_count": 6,
     "metadata": {},
     "output_type": "execute_result"
    }
   ],
   "source": [
    "expenditure.dtypes  # to shows data types of each column name"
   ]
  },
  {
   "cell_type": "code",
   "execution_count": 7,
   "id": "013491b8",
   "metadata": {},
   "outputs": [
    {
     "data": {
      "text/html": [
       "<div>\n",
       "<style scoped>\n",
       "    .dataframe tbody tr th:only-of-type {\n",
       "        vertical-align: middle;\n",
       "    }\n",
       "\n",
       "    .dataframe tbody tr th {\n",
       "        vertical-align: top;\n",
       "    }\n",
       "\n",
       "    .dataframe thead th {\n",
       "        text-align: right;\n",
       "    }\n",
       "</style>\n",
       "<table border=\"1\" class=\"dataframe\">\n",
       "  <thead>\n",
       "    <tr style=\"text-align: right;\">\n",
       "      <th></th>\n",
       "      <th>Value</th>\n",
       "    </tr>\n",
       "  </thead>\n",
       "  <tbody>\n",
       "    <tr>\n",
       "      <th>count</th>\n",
       "      <td>8.529000e+03</td>\n",
       "    </tr>\n",
       "    <tr>\n",
       "      <th>mean</th>\n",
       "      <td>1.855860e+04</td>\n",
       "    </tr>\n",
       "    <tr>\n",
       "      <th>std</th>\n",
       "      <td>7.518330e+04</td>\n",
       "    </tr>\n",
       "    <tr>\n",
       "      <th>min</th>\n",
       "      <td>0.000000e+00</td>\n",
       "    </tr>\n",
       "    <tr>\n",
       "      <th>25%</th>\n",
       "      <td>2.630000e+02</td>\n",
       "    </tr>\n",
       "    <tr>\n",
       "      <th>50%</th>\n",
       "      <td>1.780000e+03</td>\n",
       "    </tr>\n",
       "    <tr>\n",
       "      <th>75%</th>\n",
       "      <td>8.884390e+03</td>\n",
       "    </tr>\n",
       "    <tr>\n",
       "      <th>max</th>\n",
       "      <td>1.792122e+06</td>\n",
       "    </tr>\n",
       "  </tbody>\n",
       "</table>\n",
       "</div>"
      ],
      "text/plain": [
       "              Value\n",
       "count  8.529000e+03\n",
       "mean   1.855860e+04\n",
       "std    7.518330e+04\n",
       "min    0.000000e+00\n",
       "25%    2.630000e+02\n",
       "50%    1.780000e+03\n",
       "75%    8.884390e+03\n",
       "max    1.792122e+06"
      ]
     },
     "execution_count": 7,
     "metadata": {},
     "output_type": "execute_result"
    }
   ],
   "source": [
    "expenditure.describe() # To show Statistic information of dataset"
   ]
  },
  {
   "cell_type": "code",
   "execution_count": 8,
   "id": "a444d78d",
   "metadata": {},
   "outputs": [
    {
     "data": {
      "text/html": [
       "<div>\n",
       "<style scoped>\n",
       "    .dataframe tbody tr th:only-of-type {\n",
       "        vertical-align: middle;\n",
       "    }\n",
       "\n",
       "    .dataframe tbody tr th {\n",
       "        vertical-align: top;\n",
       "    }\n",
       "\n",
       "    .dataframe thead th {\n",
       "        text-align: right;\n",
       "    }\n",
       "</style>\n",
       "<table border=\"1\" class=\"dataframe\">\n",
       "  <thead>\n",
       "    <tr style=\"text-align: right;\">\n",
       "      <th></th>\n",
       "      <th>Exp Category</th>\n",
       "      <th>State</th>\n",
       "      <th>Year</th>\n",
       "      <th>Value</th>\n",
       "    </tr>\n",
       "  </thead>\n",
       "  <tbody>\n",
       "    <tr>\n",
       "      <th>count</th>\n",
       "      <td>8760</td>\n",
       "      <td>8760</td>\n",
       "      <td>6521</td>\n",
       "      <td>8.529000e+03</td>\n",
       "    </tr>\n",
       "    <tr>\n",
       "      <th>unique</th>\n",
       "      <td>8</td>\n",
       "      <td>31</td>\n",
       "      <td>36</td>\n",
       "      <td>NaN</td>\n",
       "    </tr>\n",
       "    <tr>\n",
       "      <th>top</th>\n",
       "      <td>Aggregate_Expenditure</td>\n",
       "      <td>Andhra Pradesh</td>\n",
       "      <td>2015-16</td>\n",
       "      <td>NaN</td>\n",
       "    </tr>\n",
       "    <tr>\n",
       "      <th>freq</th>\n",
       "      <td>1116</td>\n",
       "      <td>289</td>\n",
       "      <td>186</td>\n",
       "      <td>NaN</td>\n",
       "    </tr>\n",
       "    <tr>\n",
       "      <th>mean</th>\n",
       "      <td>NaN</td>\n",
       "      <td>NaN</td>\n",
       "      <td>NaN</td>\n",
       "      <td>1.855860e+04</td>\n",
       "    </tr>\n",
       "    <tr>\n",
       "      <th>std</th>\n",
       "      <td>NaN</td>\n",
       "      <td>NaN</td>\n",
       "      <td>NaN</td>\n",
       "      <td>7.518330e+04</td>\n",
       "    </tr>\n",
       "    <tr>\n",
       "      <th>min</th>\n",
       "      <td>NaN</td>\n",
       "      <td>NaN</td>\n",
       "      <td>NaN</td>\n",
       "      <td>0.000000e+00</td>\n",
       "    </tr>\n",
       "    <tr>\n",
       "      <th>25%</th>\n",
       "      <td>NaN</td>\n",
       "      <td>NaN</td>\n",
       "      <td>NaN</td>\n",
       "      <td>2.630000e+02</td>\n",
       "    </tr>\n",
       "    <tr>\n",
       "      <th>50%</th>\n",
       "      <td>NaN</td>\n",
       "      <td>NaN</td>\n",
       "      <td>NaN</td>\n",
       "      <td>1.780000e+03</td>\n",
       "    </tr>\n",
       "    <tr>\n",
       "      <th>75%</th>\n",
       "      <td>NaN</td>\n",
       "      <td>NaN</td>\n",
       "      <td>NaN</td>\n",
       "      <td>8.884390e+03</td>\n",
       "    </tr>\n",
       "    <tr>\n",
       "      <th>max</th>\n",
       "      <td>NaN</td>\n",
       "      <td>NaN</td>\n",
       "      <td>NaN</td>\n",
       "      <td>1.792122e+06</td>\n",
       "    </tr>\n",
       "  </tbody>\n",
       "</table>\n",
       "</div>"
      ],
      "text/plain": [
       "                 Exp Category            State     Year         Value\n",
       "count                    8760             8760     6521  8.529000e+03\n",
       "unique                      8               31       36           NaN\n",
       "top     Aggregate_Expenditure  Andhra Pradesh   2015-16           NaN\n",
       "freq                     1116              289      186           NaN\n",
       "mean                      NaN              NaN      NaN  1.855860e+04\n",
       "std                       NaN              NaN      NaN  7.518330e+04\n",
       "min                       NaN              NaN      NaN  0.000000e+00\n",
       "25%                       NaN              NaN      NaN  2.630000e+02\n",
       "50%                       NaN              NaN      NaN  1.780000e+03\n",
       "75%                       NaN              NaN      NaN  8.884390e+03\n",
       "max                       NaN              NaN      NaN  1.792122e+06"
      ]
     },
     "execution_count": 8,
     "metadata": {},
     "output_type": "execute_result"
    }
   ],
   "source": [
    "expenditure.describe(include='all') # To show Statistic information of all dataset"
   ]
  },
  {
   "cell_type": "code",
   "execution_count": 9,
   "id": "cc7d613a",
   "metadata": {},
   "outputs": [
    {
     "name": "stdout",
     "output_type": "stream",
     "text": [
      "<class 'pandas.core.frame.DataFrame'>\n",
      "RangeIndex: 8760 entries, 0 to 8759\n",
      "Data columns (total 4 columns):\n",
      " #   Column        Non-Null Count  Dtype  \n",
      "---  ------        --------------  -----  \n",
      " 0   Exp Category  8760 non-null   object \n",
      " 1   State         8760 non-null   object \n",
      " 2   Year          6521 non-null   object \n",
      " 3   Value         8529 non-null   float64\n",
      "dtypes: float64(1), object(3)\n",
      "memory usage: 273.9+ KB\n"
     ]
    }
   ],
   "source": [
    "expenditure.info() # to shows indexes,data types each columns name"
   ]
  },
  {
   "cell_type": "code",
   "execution_count": 10,
   "id": "2c05fdfb",
   "metadata": {},
   "outputs": [
    {
     "data": {
      "text/plain": [
       "Exp Category       8\n",
       "State             31\n",
       "Year              36\n",
       "Value           5695\n",
       "dtype: int64"
      ]
     },
     "execution_count": 10,
     "metadata": {},
     "output_type": "execute_result"
    }
   ],
   "source": [
    "#Finding how many unique values are in the dataset\n",
    "expenditure.nunique()"
   ]
  },
  {
   "cell_type": "code",
   "execution_count": 11,
   "id": "dfcd05a7",
   "metadata": {},
   "outputs": [
    {
     "data": {
      "text/plain": [
       "array(['1980-81', '1981-82', '1982-83', '1983-84', '1984-85', '1985-86',\n",
       "       '1986-87', '1987-88', '1988-89', '1989-90', '1990-91', '1991-92',\n",
       "       '1992-93', '1993-94', '1994-95', '1995-96', '1996-97', '1997-98',\n",
       "       '1998-99', '1999-00', '2000-01', '2001-02', '2002-03', '2003-04',\n",
       "       '2004-05', '2005-06', '2006-07', '2007-08', '2008-09', '2009-10',\n",
       "       '2010-11', '2011-12', '2012-13', '2013-14', '2014-15', '2015-16',\n",
       "       nan], dtype=object)"
      ]
     },
     "execution_count": 11,
     "metadata": {},
     "output_type": "execute_result"
    }
   ],
   "source": [
    "expenditure['Year'].unique() #  unique values in Year columns"
   ]
  },
  {
   "cell_type": "markdown",
   "id": "dde9ad8d",
   "metadata": {},
   "source": [
    "- This Dataset contains from year 1980-81 to 2015-16."
   ]
  },
  {
   "cell_type": "code",
   "execution_count": 12,
   "id": "4b2d6d38",
   "metadata": {},
   "outputs": [
    {
     "data": {
      "text/plain": [
       "array(['Aggregate_Expenditure', 'Capital_Expenditure',\n",
       "       'Gross_Fiscal_Deficits', 'Nominal_GSDP_Series', 'Own_Tax_Revenues',\n",
       "       'Revenue_Deficits', 'Revenue_Expenditure',\n",
       "       'Social_Sector_Expenditure'], dtype=object)"
      ]
     },
     "execution_count": 12,
     "metadata": {},
     "output_type": "execute_result"
    }
   ],
   "source": [
    "expenditure['Exp Category'].unique() #  categories of expenditure"
   ]
  },
  {
   "cell_type": "code",
   "execution_count": 13,
   "id": "61077e95",
   "metadata": {},
   "outputs": [
    {
     "data": {
      "text/plain": [
       "array(['Andhra Pradesh ', 'Arunachal Pradesh', 'Assam', 'Bihar',\n",
       "       'Chhattisgarh', 'Goa', 'Gujarat', 'Haryana', 'Himachal Pradesh',\n",
       "       'Jammu & Kashmir', 'Jharkhand', 'Karnataka', 'Kerala',\n",
       "       'Madhya Pradesh', 'Maharashtra', 'Manipur', 'Meghalaya', 'Mizoram',\n",
       "       'Nagaland', 'Odisha', 'Punjab', 'Rajasthan', 'Sikkim',\n",
       "       'Tamil Nadu', 'Telangana', 'Tripura', 'Uttar Pradesh',\n",
       "       'Uttarakhand', 'West Bengal', 'Delhi', 'Puducherry'], dtype=object)"
      ]
     },
     "execution_count": 13,
     "metadata": {},
     "output_type": "execute_result"
    }
   ],
   "source": [
    "expenditure['State'].unique() #  unique values in state columns"
   ]
  },
  {
   "cell_type": "markdown",
   "id": "9f246a5e",
   "metadata": {},
   "source": [
    "- These are the names of States and UTs of India."
   ]
  },
  {
   "cell_type": "markdown",
   "id": "99d3fa2f",
   "metadata": {},
   "source": [
    "### 4.2 Preprofilling:\n",
    "By pandas profiling, an interactive **HTML report** gets generated which contains all the information about the columns of the dataset, like the counts and type of each column. \n",
    "\n",
    "1. Detailed information about each column, coorelation between different columns and a sample of dataset\n",
    "\n",
    "2. It gives us visual interpretation of each column in the data\n",
    "\n",
    "3. Spread of the data can be better understood by the distribution plot\n",
    "\n",
    "4. Grannular level analysis of each column.\n",
    "<a id=section401></a>"
   ]
  },
  {
   "cell_type": "markdown",
   "id": "1271653a",
   "metadata": {},
   "source": [
    "#### Now performing __ydata-profiling__ to understand data better."
   ]
  },
  {
   "cell_type": "code",
   "execution_count": 14,
   "id": "ea855fcd",
   "metadata": {},
   "outputs": [],
   "source": [
    "from ydata_profiling import ProfileReport as prf"
   ]
  },
  {
   "cell_type": "markdown",
   "id": "05fbba37",
   "metadata": {},
   "source": [
    "#### To generate the standard profiling report, merely run:"
   ]
  },
  {
   "cell_type": "code",
   "execution_count": 15,
   "id": "65ebd96e",
   "metadata": {},
   "outputs": [],
   "source": [
    "expenditure_profile = prf(expenditure, title=\"Expenditure Profile Report\")"
   ]
  },
  {
   "cell_type": "code",
   "execution_count": null,
   "id": "6c193433",
   "metadata": {},
   "outputs": [],
   "source": [
    "# save profile \n",
    "expenditure_profile.to_file(output_file=\"expenditure_before_preprocessing.html\")"
   ]
  },
  {
   "cell_type": "markdown",
   "id": "0a9c6a8d",
   "metadata": {},
   "source": [
    "### 4.3 Preprocessing\n",
    "Modified the structure of data in order to make it more understandable and suitable and convenient for statistical analysis. \n",
    "\n",
    "1. Checking null values\n",
    "2. Feeling null values\n",
    "3. Checking and removing Duplicates rows\n",
    "<a id=section403> </a>"
   ]
  },
  {
   "cell_type": "markdown",
   "id": "080454c2",
   "metadata": {},
   "source": [
    "#### 1. Checking null values\n"
   ]
  },
  {
   "cell_type": "code",
   "execution_count": 17,
   "id": "356f3a88",
   "metadata": {},
   "outputs": [
    {
     "data": {
      "text/plain": [
       "Exp Category       0\n",
       "State              0\n",
       "Year            2239\n",
       "Value            231\n",
       "dtype: int64"
      ]
     },
     "execution_count": 17,
     "metadata": {},
     "output_type": "execute_result"
    }
   ],
   "source": [
    "m = expenditure.isnull().sum()\n",
    "m"
   ]
  },
  {
   "cell_type": "code",
   "execution_count": 18,
   "id": "ad24b91a",
   "metadata": {},
   "outputs": [
    {
     "data": {
      "text/plain": [
       "Exp Category     0.000000\n",
       "State            0.000000\n",
       "Year            25.559361\n",
       "Value            2.636986\n",
       "dtype: float64"
      ]
     },
     "execution_count": 18,
     "metadata": {},
     "output_type": "execute_result"
    }
   ],
   "source": [
    "#missing values in percentage\n",
    "m1 = m/len(expenditure)*100\n",
    "m1"
   ]
  },
  {
   "cell_type": "code",
   "execution_count": 19,
   "id": "c0f296fa",
   "metadata": {},
   "outputs": [
    {
     "data": {
      "text/html": [
       "<div>\n",
       "<style scoped>\n",
       "    .dataframe tbody tr th:only-of-type {\n",
       "        vertical-align: middle;\n",
       "    }\n",
       "\n",
       "    .dataframe tbody tr th {\n",
       "        vertical-align: top;\n",
       "    }\n",
       "\n",
       "    .dataframe thead th {\n",
       "        text-align: right;\n",
       "    }\n",
       "</style>\n",
       "<table border=\"1\" class=\"dataframe\">\n",
       "  <thead>\n",
       "    <tr style=\"text-align: right;\">\n",
       "      <th></th>\n",
       "      <th>Total</th>\n",
       "      <th>Missing %</th>\n",
       "    </tr>\n",
       "  </thead>\n",
       "  <tbody>\n",
       "    <tr>\n",
       "      <th>Exp Category</th>\n",
       "      <td>0</td>\n",
       "      <td>0.000000</td>\n",
       "    </tr>\n",
       "    <tr>\n",
       "      <th>State</th>\n",
       "      <td>0</td>\n",
       "      <td>0.000000</td>\n",
       "    </tr>\n",
       "    <tr>\n",
       "      <th>Year</th>\n",
       "      <td>2239</td>\n",
       "      <td>25.559361</td>\n",
       "    </tr>\n",
       "    <tr>\n",
       "      <th>Value</th>\n",
       "      <td>231</td>\n",
       "      <td>2.636986</td>\n",
       "    </tr>\n",
       "  </tbody>\n",
       "</table>\n",
       "</div>"
      ],
      "text/plain": [
       "              Total  Missing %\n",
       "Exp Category      0   0.000000\n",
       "State             0   0.000000\n",
       "Year           2239  25.559361\n",
       "Value           231   2.636986"
      ]
     },
     "execution_count": 19,
     "metadata": {},
     "output_type": "execute_result"
    }
   ],
   "source": [
    "#missing values with %\n",
    "pd.concat([m,m1],axis=1,keys = ['Total','Missing %'])"
   ]
  },
  {
   "cell_type": "markdown",
   "id": "ffdfcca1",
   "metadata": {},
   "source": [
    "- Year having 25% and Value having 2 % missing values contains in the dataset."
   ]
  },
  {
   "cell_type": "markdown",
   "id": "c2771bf6",
   "metadata": {},
   "source": [
    "#### Null values shown by heatmap"
   ]
  },
  {
   "cell_type": "code",
   "execution_count": 20,
   "id": "45a88673",
   "metadata": {},
   "outputs": [
    {
     "data": {
      "text/plain": [
       "<Axes: >"
      ]
     },
     "execution_count": 20,
     "metadata": {},
     "output_type": "execute_result"
    },
    {
     "data": {
      "image/png": "[encoded data removed]",
      "text/plain": [
       "<Figure size 640x480 with 2 Axes>"
      ]
     },
     "metadata": {},
     "output_type": "display_data"
    }
   ],
   "source": [
    "sns.heatmap(expenditure.isnull())"
   ]
  },
  {
   "cell_type": "markdown",
   "id": "dd4c101a",
   "metadata": {},
   "source": [
    "#### 2.Filling nulll values\n",
    "- filling null values with 0."
   ]
  },
  {
   "cell_type": "code",
   "execution_count": 21,
   "id": "3a3d12a2",
   "metadata": {},
   "outputs": [
    {
     "data": {
      "text/html": [
       "<div>\n",
       "<style scoped>\n",
       "    .dataframe tbody tr th:only-of-type {\n",
       "        vertical-align: middle;\n",
       "    }\n",
       "\n",
       "    .dataframe tbody tr th {\n",
       "        vertical-align: top;\n",
       "    }\n",
       "\n",
       "    .dataframe thead th {\n",
       "        text-align: right;\n",
       "    }\n",
       "</style>\n",
       "<table border=\"1\" class=\"dataframe\">\n",
       "  <thead>\n",
       "    <tr style=\"text-align: right;\">\n",
       "      <th></th>\n",
       "      <th>Exp Category</th>\n",
       "      <th>State</th>\n",
       "      <th>Year</th>\n",
       "      <th>Value</th>\n",
       "    </tr>\n",
       "  </thead>\n",
       "  <tbody>\n",
       "    <tr>\n",
       "      <th>0</th>\n",
       "      <td>Aggregate_Expenditure</td>\n",
       "      <td>Andhra Pradesh</td>\n",
       "      <td>1980-81</td>\n",
       "      <td>1610.0</td>\n",
       "    </tr>\n",
       "    <tr>\n",
       "      <th>1</th>\n",
       "      <td>Aggregate_Expenditure</td>\n",
       "      <td>Andhra Pradesh</td>\n",
       "      <td>1981-82</td>\n",
       "      <td>1831.0</td>\n",
       "    </tr>\n",
       "    <tr>\n",
       "      <th>2</th>\n",
       "      <td>Aggregate_Expenditure</td>\n",
       "      <td>Andhra Pradesh</td>\n",
       "      <td>1982-83</td>\n",
       "      <td>1933.0</td>\n",
       "    </tr>\n",
       "    <tr>\n",
       "      <th>3</th>\n",
       "      <td>Aggregate_Expenditure</td>\n",
       "      <td>Andhra Pradesh</td>\n",
       "      <td>1983-84</td>\n",
       "      <td>2588.0</td>\n",
       "    </tr>\n",
       "    <tr>\n",
       "      <th>4</th>\n",
       "      <td>Aggregate_Expenditure</td>\n",
       "      <td>Andhra Pradesh</td>\n",
       "      <td>1984-85</td>\n",
       "      <td>3119.0</td>\n",
       "    </tr>\n",
       "  </tbody>\n",
       "</table>\n",
       "</div>"
      ],
      "text/plain": [
       "            Exp Category            State     Year   Value\n",
       "0  Aggregate_Expenditure  Andhra Pradesh   1980-81  1610.0\n",
       "1  Aggregate_Expenditure  Andhra Pradesh   1981-82  1831.0\n",
       "2  Aggregate_Expenditure  Andhra Pradesh   1982-83  1933.0\n",
       "3  Aggregate_Expenditure  Andhra Pradesh   1983-84  2588.0\n",
       "4  Aggregate_Expenditure  Andhra Pradesh   1984-85  3119.0"
      ]
     },
     "execution_count": 21,
     "metadata": {},
     "output_type": "execute_result"
    }
   ],
   "source": [
    "# make copy of dataset before changes\n",
    "exp_data = expenditure.copy()\n",
    "exp_data.head()"
   ]
  },
  {
   "cell_type": "code",
   "execution_count": 22,
   "id": "5904ead4",
   "metadata": {},
   "outputs": [],
   "source": [
    "exp_data.fillna(0,inplace=True)"
   ]
  },
  {
   "cell_type": "code",
   "execution_count": 23,
   "id": "b595a676",
   "metadata": {},
   "outputs": [
    {
     "data": {
      "text/plain": [
       "Exp Category    0\n",
       "State           0\n",
       "Year            0\n",
       "Value           0\n",
       "dtype: int64"
      ]
     },
     "execution_count": 23,
     "metadata": {},
     "output_type": "execute_result"
    }
   ],
   "source": [
    "#checking missing values again\n",
    "exp_data.isnull().sum()"
   ]
  },
  {
   "cell_type": "markdown",
   "id": "da56194a",
   "metadata": {},
   "source": [
    "#### 3. Checking and removing Duplicates rows"
   ]
  },
  {
   "cell_type": "code",
   "execution_count": 24,
   "id": "20ef3e38",
   "metadata": {},
   "outputs": [
    {
     "data": {
      "text/html": [
       "<div>\n",
       "<style scoped>\n",
       "    .dataframe tbody tr th:only-of-type {\n",
       "        vertical-align: middle;\n",
       "    }\n",
       "\n",
       "    .dataframe tbody tr th {\n",
       "        vertical-align: top;\n",
       "    }\n",
       "\n",
       "    .dataframe thead th {\n",
       "        text-align: right;\n",
       "    }\n",
       "</style>\n",
       "<table border=\"1\" class=\"dataframe\">\n",
       "  <thead>\n",
       "    <tr style=\"text-align: right;\">\n",
       "      <th></th>\n",
       "      <th>Exp Category</th>\n",
       "      <th>State</th>\n",
       "      <th>Year</th>\n",
       "      <th>Value</th>\n",
       "    </tr>\n",
       "  </thead>\n",
       "  <tbody>\n",
       "    <tr>\n",
       "      <th>2266</th>\n",
       "      <td>Gross_Fiscal_Deficits</td>\n",
       "      <td>Arunachal Pradesh</td>\n",
       "      <td>0</td>\n",
       "      <td>0.0</td>\n",
       "    </tr>\n",
       "    <tr>\n",
       "      <th>2267</th>\n",
       "      <td>Gross_Fiscal_Deficits</td>\n",
       "      <td>Arunachal Pradesh</td>\n",
       "      <td>0</td>\n",
       "      <td>0.0</td>\n",
       "    </tr>\n",
       "    <tr>\n",
       "      <th>2268</th>\n",
       "      <td>Gross_Fiscal_Deficits</td>\n",
       "      <td>Arunachal Pradesh</td>\n",
       "      <td>0</td>\n",
       "      <td>0.0</td>\n",
       "    </tr>\n",
       "    <tr>\n",
       "      <th>2269</th>\n",
       "      <td>Gross_Fiscal_Deficits</td>\n",
       "      <td>Arunachal Pradesh</td>\n",
       "      <td>0</td>\n",
       "      <td>0.0</td>\n",
       "    </tr>\n",
       "    <tr>\n",
       "      <th>2270</th>\n",
       "      <td>Gross_Fiscal_Deficits</td>\n",
       "      <td>Arunachal Pradesh</td>\n",
       "      <td>0</td>\n",
       "      <td>0.0</td>\n",
       "    </tr>\n",
       "    <tr>\n",
       "      <th>...</th>\n",
       "      <td>...</td>\n",
       "      <td>...</td>\n",
       "      <td>...</td>\n",
       "      <td>...</td>\n",
       "    </tr>\n",
       "    <tr>\n",
       "      <th>8744</th>\n",
       "      <td>Social_Sector_Expenditure</td>\n",
       "      <td>Puducherry</td>\n",
       "      <td>0</td>\n",
       "      <td>0.0</td>\n",
       "    </tr>\n",
       "    <tr>\n",
       "      <th>8745</th>\n",
       "      <td>Social_Sector_Expenditure</td>\n",
       "      <td>Puducherry</td>\n",
       "      <td>0</td>\n",
       "      <td>0.0</td>\n",
       "    </tr>\n",
       "    <tr>\n",
       "      <th>8746</th>\n",
       "      <td>Social_Sector_Expenditure</td>\n",
       "      <td>Puducherry</td>\n",
       "      <td>0</td>\n",
       "      <td>0.0</td>\n",
       "    </tr>\n",
       "    <tr>\n",
       "      <th>8747</th>\n",
       "      <td>Social_Sector_Expenditure</td>\n",
       "      <td>Puducherry</td>\n",
       "      <td>0</td>\n",
       "      <td>0.0</td>\n",
       "    </tr>\n",
       "    <tr>\n",
       "      <th>8748</th>\n",
       "      <td>Social_Sector_Expenditure</td>\n",
       "      <td>Puducherry</td>\n",
       "      <td>0</td>\n",
       "      <td>0.0</td>\n",
       "    </tr>\n",
       "  </tbody>\n",
       "</table>\n",
       "<p>275 rows × 4 columns</p>\n",
       "</div>"
      ],
      "text/plain": [
       "                   Exp Category              State Year  Value\n",
       "2266      Gross_Fiscal_Deficits  Arunachal Pradesh    0    0.0\n",
       "2267      Gross_Fiscal_Deficits  Arunachal Pradesh    0    0.0\n",
       "2268      Gross_Fiscal_Deficits  Arunachal Pradesh    0    0.0\n",
       "2269      Gross_Fiscal_Deficits  Arunachal Pradesh    0    0.0\n",
       "2270      Gross_Fiscal_Deficits  Arunachal Pradesh    0    0.0\n",
       "...                         ...                ...  ...    ...\n",
       "8744  Social_Sector_Expenditure         Puducherry    0    0.0\n",
       "8745  Social_Sector_Expenditure         Puducherry    0    0.0\n",
       "8746  Social_Sector_Expenditure         Puducherry    0    0.0\n",
       "8747  Social_Sector_Expenditure         Puducherry    0    0.0\n",
       "8748  Social_Sector_Expenditure         Puducherry    0    0.0\n",
       "\n",
       "[275 rows x 4 columns]"
      ]
     },
     "execution_count": 24,
     "metadata": {},
     "output_type": "execute_result"
    }
   ],
   "source": [
    "exp_data[exp_data.duplicated()] #duplicates rows"
   ]
  },
  {
   "cell_type": "code",
   "execution_count": 25,
   "id": "7bc352b8",
   "metadata": {},
   "outputs": [
    {
     "data": {
      "text/plain": [
       "np.int64(273)"
      ]
     },
     "execution_count": 25,
     "metadata": {},
     "output_type": "execute_result"
    }
   ],
   "source": [
    "expenditure.duplicated().sum() #number of duplicates rows"
   ]
  },
  {
   "cell_type": "markdown",
   "id": "af94c4f2",
   "metadata": {},
   "source": [
    "- 273 rows are duplicates.\n",
    "- so lets drop them for better analysis."
   ]
  },
  {
   "cell_type": "code",
   "execution_count": 26,
   "id": "dbbfd9fa",
   "metadata": {},
   "outputs": [],
   "source": [
    "exp_data.drop_duplicates(inplace=True)"
   ]
  },
  {
   "cell_type": "code",
   "execution_count": 27,
   "id": "5c5af66b",
   "metadata": {},
   "outputs": [
    {
     "data": {
      "text/plain": [
       "np.int64(0)"
      ]
     },
     "execution_count": 27,
     "metadata": {},
     "output_type": "execute_result"
    }
   ],
   "source": [
    "#again checking for duplicates\n",
    "exp_data.duplicated().sum()"
   ]
  },
  {
   "cell_type": "code",
   "execution_count": 28,
   "id": "cfd61de4",
   "metadata": {},
   "outputs": [
    {
     "data": {
      "text/plain": [
       "(8485, 4)"
      ]
     },
     "execution_count": 28,
     "metadata": {},
     "output_type": "execute_result"
    }
   ],
   "source": [
    "#checking size after cleaning\n",
    "exp_data.shape"
   ]
  },
  {
   "cell_type": "markdown",
   "id": "d3fc0189",
   "metadata": {},
   "source": [
    "- All 273 duplicated rows are removed."
   ]
  },
  {
   "cell_type": "markdown",
   "id": "6f4b3fb0",
   "metadata": {},
   "source": [
    "### 4.4 Post Profiling\n",
    "<a id=section404> </a>\n",
    "- Post profilling after cleaning dataset."
   ]
  },
  {
   "cell_type": "code",
   "execution_count": null,
   "id": "4d96bdf4",
   "metadata": {},
   "outputs": [],
   "source": [
    "exp_clean_profile = prf(exp_data)\n",
    "exp_clean_profile"
   ]
  },
  {
   "cell_type": "code",
   "execution_count": null,
   "id": "dfcfda03",
   "metadata": {},
   "outputs": [],
   "source": [
    "#save clean profile file\n",
    "\n",
    "exp_clean_profile.to_file(output_file=\"expenditure_after_preprocessing.html\")"
   ]
  },
  {
   "cell_type": "code",
   "execution_count": 31,
   "id": "701f9dae",
   "metadata": {},
   "outputs": [],
   "source": [
    "#save clean dataset into csv\n",
    "exp_data.to_csv('expenditure1.csv')"
   ]
  },
  {
   "cell_type": "code",
   "execution_count": 32,
   "id": "332f9997",
   "metadata": {},
   "outputs": [
    {
     "name": "stdout",
     "output_type": "stream",
     "text": [
      "Exp Category     object\n",
      "State            object\n",
      "Year             object\n",
      "Value           float64\n",
      "dtype: object\n"
     ]
    }
   ],
   "source": [
    "print(exp_data.dtypes)"
   ]
  },
  {
   "cell_type": "code",
   "execution_count": 33,
   "id": "0c5b26bb",
   "metadata": {},
   "outputs": [],
   "source": [
    "#exp_data['Year'] = pd.to_numeric(exp_data['Year'], errors='coerce')"
   ]
  },
  {
   "cell_type": "markdown",
   "id": "8fbf04df",
   "metadata": {},
   "source": [
    "### 5. Data Visualization:\n",
    "Data visualization is concerned with visually presenting sets of primarily quantitative raw data in a schematic form. The visual formats used in data visualization include tables, charts and graphs.\n",
    "- In this project we use matplotlib and seaborn python libraries.\n",
    "<a id=section5></a>"
   ]
  },
  {
   "cell_type": "markdown",
   "id": "a13ceada",
   "metadata": {},
   "source": [
    "### 1. Correlation between features"
   ]
  },
  {
   "cell_type": "code",
   "execution_count": 34,
   "id": "2f9637ce",
   "metadata": {},
   "outputs": [
    {
     "name": "stdout",
     "output_type": "stream",
     "text": [
      "Year     0\n",
      "Value    0\n",
      "dtype: int64\n"
     ]
    }
   ],
   "source": [
    "print(exp_data[['Year', 'Value']].isnull().sum())"
   ]
  },
  {
   "cell_type": "code",
   "execution_count": 35,
   "id": "e8bf6cbb",
   "metadata": {},
   "outputs": [
    {
     "name": "stdout",
     "output_type": "stream",
     "text": [
      "       Value\n",
      "Value    1.0\n"
     ]
    }
   ],
   "source": [
    "numeric_columns = exp_data.select_dtypes(include=[np.number]).columns\n",
    "corr = exp_data[numeric_columns].corr()\n",
    "print(corr)\n"
   ]
  },
  {
   "cell_type": "markdown",
   "id": "dd3de54f",
   "metadata": {},
   "source": [
    "- Only one feature for correlation."
   ]
  },
  {
   "cell_type": "markdown",
   "id": "00a20998",
   "metadata": {},
   "source": [
    "### 2. All unique categories of expenditure."
   ]
  },
  {
   "cell_type": "code",
   "execution_count": 36,
   "id": "8ec7eda8",
   "metadata": {},
   "outputs": [
    {
     "data": {
      "text/html": [
       "<div>\n",
       "<style scoped>\n",
       "    .dataframe tbody tr th:only-of-type {\n",
       "        vertical-align: middle;\n",
       "    }\n",
       "\n",
       "    .dataframe tbody tr th {\n",
       "        vertical-align: top;\n",
       "    }\n",
       "\n",
       "    .dataframe thead th {\n",
       "        text-align: right;\n",
       "    }\n",
       "</style>\n",
       "<table border=\"1\" class=\"dataframe\">\n",
       "  <thead>\n",
       "    <tr style=\"text-align: right;\">\n",
       "      <th></th>\n",
       "      <th>Exp Category</th>\n",
       "      <th>State</th>\n",
       "      <th>Year</th>\n",
       "      <th>Value</th>\n",
       "    </tr>\n",
       "  </thead>\n",
       "  <tbody>\n",
       "    <tr>\n",
       "      <th>0</th>\n",
       "      <td>Aggregate_Expenditure</td>\n",
       "      <td>Andhra Pradesh</td>\n",
       "      <td>1980-81</td>\n",
       "      <td>1610.0</td>\n",
       "    </tr>\n",
       "    <tr>\n",
       "      <th>1</th>\n",
       "      <td>Aggregate_Expenditure</td>\n",
       "      <td>Andhra Pradesh</td>\n",
       "      <td>1981-82</td>\n",
       "      <td>1831.0</td>\n",
       "    </tr>\n",
       "  </tbody>\n",
       "</table>\n",
       "</div>"
      ],
      "text/plain": [
       "            Exp Category            State     Year   Value\n",
       "0  Aggregate_Expenditure  Andhra Pradesh   1980-81  1610.0\n",
       "1  Aggregate_Expenditure  Andhra Pradesh   1981-82  1831.0"
      ]
     },
     "execution_count": 36,
     "metadata": {},
     "output_type": "execute_result"
    }
   ],
   "source": [
    "exp_data.head(2)"
   ]
  },
  {
   "cell_type": "code",
   "execution_count": 37,
   "id": "62439d19",
   "metadata": {},
   "outputs": [
    {
     "data": {
      "text/plain": [
       "8"
      ]
     },
     "execution_count": 37,
     "metadata": {},
     "output_type": "execute_result"
    }
   ],
   "source": [
    "exp_data['Exp Category'].nunique()"
   ]
  },
  {
   "cell_type": "code",
   "execution_count": 51,
   "id": "277af21f",
   "metadata": {},
   "outputs": [
    {
     "data": {
      "image/png": "[encoded data removed]",
      "text/plain": [
       "<Figure size 1200x600 with 1 Axes>"
      ]
     },
     "metadata": {},
     "output_type": "display_data"
    }
   ],
   "source": [
    "\n",
    "# Set the figure size for better visibility\n",
    "plt.figure(figsize=(12, 6))\n",
    "\n",
    "# Create the countplot\n",
    "sns.countplot(data=exp_data, x='Exp Category', order=exp_data['Exp Category'].value_counts().index)\n",
    "plt.xticks(rotation=45, ha='right')\n",
    "plt.tight_layout()\n",
    "plt.show()"
   ]
  },
  {
   "cell_type": "markdown",
   "id": "5dd32953",
   "metadata": {},
   "source": [
    "**Insights:** Its clearly shown there are 8 expenditure categories in this NITI Aayog dataset."
   ]
  },
  {
   "cell_type": "markdown",
   "id": "1debea49",
   "metadata": {},
   "source": [
    "### 3. Names of all  states in india. "
   ]
  },
  {
   "cell_type": "code",
   "execution_count": 40,
   "id": "0339cecf",
   "metadata": {},
   "outputs": [
    {
     "data": {
      "text/plain": [
       "31"
      ]
     },
     "execution_count": 40,
     "metadata": {},
     "output_type": "execute_result"
    }
   ],
   "source": [
    "exp_data['State'].nunique() "
   ]
  },
  {
   "cell_type": "code",
   "execution_count": 57,
   "id": "d215e520",
   "metadata": {},
   "outputs": [
    {
     "data": {
      "text/plain": [
       "(array([  0.,  50., 100., 150., 200., 250., 300., 350.]),\n",
       " [Text(0.0, 0, '0'),\n",
       "  Text(50.0, 0, '50'),\n",
       "  Text(100.0, 0, '100'),\n",
       "  Text(150.0, 0, '150'),\n",
       "  Text(200.0, 0, '200'),\n",
       "  Text(250.0, 0, '250'),\n",
       "  Text(300.0, 0, '300'),\n",
       "  Text(350.0, 0, '350')])"
      ]
     },
     "execution_count": 57,
     "metadata": {},
     "output_type": "execute_result"
    },
    {
     "data": {
      "image/png": "[encoded data removed]",
      "text/plain": [
       "<Figure size 600x1000 with 1 Axes>"
      ]
     },
     "metadata": {},
     "output_type": "display_data"
    }
   ],
   "source": [
    "\n",
    "# Set the figure size for better visibility\n",
    "plt.figure(figsize=(6, 10))\n",
    "\n",
    "#shows in countplot\n",
    "sns.countplot(exp_data['State'])\n",
    "sns.set_theme(style=\"darkgrid\")\n",
    "plt.xticks(rotation=90)"
   ]
  },
  {
   "cell_type": "markdown",
   "id": "f668aaac",
   "metadata": {},
   "source": [
    "**Insights:** Its clearly shown there are 31 counts of states and Union territories in India."
   ]
  },
  {
   "cell_type": "markdown",
   "id": "5b533697",
   "metadata": {},
   "source": [
    "### 4.  Which is the Highest invested category of expenditure on which state?"
   ]
  },
  {
   "cell_type": "code",
   "execution_count": 42,
   "id": "d4ba12bb",
   "metadata": {},
   "outputs": [
    {
     "data": {
      "text/plain": [
       "count                      8485\n",
       "unique                        8\n",
       "top       Aggregate_Expenditure\n",
       "freq                       1116\n",
       "Name: Exp Category, dtype: object"
      ]
     },
     "execution_count": 42,
     "metadata": {},
     "output_type": "execute_result"
    }
   ],
   "source": [
    "exp_data['Exp Category'].describe(include=all)"
   ]
  },
  {
   "cell_type": "code",
   "execution_count": 43,
   "id": "242309a7",
   "metadata": {},
   "outputs": [
    {
     "data": {
      "text/plain": [
       "Exp Category\n",
       "Aggregate_Expenditure        [Andhra Pradesh , Arunachal Pradesh, Assam, Bi...\n",
       "Capital_Expenditure          [Andhra Pradesh , Arunachal Pradesh, Assam, Bi...\n",
       "Gross_Fiscal_Deficits        [Andhra Pradesh , Assam, Bihar, Gujarat, Harya...\n",
       "Nominal_GSDP_Series          [Andhra Pradesh , Arunachal Pradesh, Assam, Bi...\n",
       "Own_Tax_Revenues             [Andhra Pradesh , Arunachal Pradesh, Assam, Bi...\n",
       "Revenue_Deficits             [Andhra Pradesh , Arunachal Pradesh, Assam, Bi...\n",
       "Revenue_Expenditure          [Andhra Pradesh , Arunachal Pradesh, Assam, Bi...\n",
       "Social_Sector_Expenditure    [Andhra Pradesh , Assam, Bihar, Gujarat, Harya...\n",
       "Name: State, dtype: object"
      ]
     },
     "execution_count": 43,
     "metadata": {},
     "output_type": "execute_result"
    }
   ],
   "source": [
    "exp_data.groupby(\"Exp Category\")[\"State\"].agg(pd.Series.mode)"
   ]
  },
  {
   "cell_type": "markdown",
   "id": "b7886e54",
   "metadata": {},
   "source": [
    "- Aggregate_Expenditure is Highest invested category of expenditure on Andhra Pradesh."
   ]
  },
  {
   "cell_type": "markdown",
   "id": "65512391",
   "metadata": {},
   "source": [
    "**Insights:** Aggregate_Expenditure is Highest invested category of expenditure on Andhra Pradesh ."
   ]
  },
  {
   "cell_type": "markdown",
   "id": "0b47cef5",
   "metadata": {},
   "source": [
    "### 5. Top 5 state having aggregate expenditure spending?"
   ]
  },
  {
   "cell_type": "code",
   "execution_count": 44,
   "id": "e6a0fc98",
   "metadata": {},
   "outputs": [
    {
     "data": {
      "text/plain": [
       "Exp Category               State            \n",
       "Aggregate_Expenditure      Andhra Pradesh       36\n",
       "                           Arunachal Pradesh    36\n",
       "                           Assam                36\n",
       "                           Bihar                36\n",
       "                           Chhattisgarh         36\n",
       "                                                ..\n",
       "Social_Sector_Expenditure  Telangana             3\n",
       "                           Tripura              35\n",
       "                           Uttar Pradesh        36\n",
       "                           Uttarakhand          17\n",
       "                           West Bengal          36\n",
       "Name: Value, Length: 248, dtype: int64"
      ]
     },
     "execution_count": 44,
     "metadata": {},
     "output_type": "execute_result"
    }
   ],
   "source": [
    "exp_data.groupby(['Exp Category', 'State']).count()[\"Value\"]"
   ]
  },
  {
   "cell_type": "markdown",
   "id": "42e0fa6f",
   "metadata": {},
   "source": [
    "**Insights:** The Aggregate expenditure spending on these top 5 states are Andhra Pradesh, Arunachal Pradesh ,Assam ,Bihar  & Chhattisgarh ."
   ]
  },
  {
   "cell_type": "markdown",
   "id": "70fe09c9",
   "metadata": {},
   "source": [
    "### 6. Expenditure spending over the years"
   ]
  },
  {
   "cell_type": "code",
   "execution_count": 45,
   "id": "e8f72b8f",
   "metadata": {},
   "outputs": [
    {
     "data": {
      "text/html": [
       "<div>\n",
       "<style scoped>\n",
       "    .dataframe tbody tr th:only-of-type {\n",
       "        vertical-align: middle;\n",
       "    }\n",
       "\n",
       "    .dataframe tbody tr th {\n",
       "        vertical-align: top;\n",
       "    }\n",
       "\n",
       "    .dataframe thead th {\n",
       "        text-align: right;\n",
       "    }\n",
       "</style>\n",
       "<table border=\"1\" class=\"dataframe\">\n",
       "  <thead>\n",
       "    <tr style=\"text-align: right;\">\n",
       "      <th></th>\n",
       "      <th>Value</th>\n",
       "    </tr>\n",
       "    <tr>\n",
       "      <th>Year</th>\n",
       "      <th></th>\n",
       "    </tr>\n",
       "  </thead>\n",
       "  <tbody>\n",
       "    <tr>\n",
       "      <th>0</th>\n",
       "      <td>1964</td>\n",
       "    </tr>\n",
       "    <tr>\n",
       "      <th>2015-16</th>\n",
       "      <td>186</td>\n",
       "    </tr>\n",
       "    <tr>\n",
       "      <th>2014-15</th>\n",
       "      <td>186</td>\n",
       "    </tr>\n",
       "    <tr>\n",
       "      <th>2013-14</th>\n",
       "      <td>186</td>\n",
       "    </tr>\n",
       "    <tr>\n",
       "      <th>2010-11</th>\n",
       "      <td>184</td>\n",
       "    </tr>\n",
       "    <tr>\n",
       "      <th>2004-05</th>\n",
       "      <td>184</td>\n",
       "    </tr>\n",
       "    <tr>\n",
       "      <th>2009-10</th>\n",
       "      <td>184</td>\n",
       "    </tr>\n",
       "    <tr>\n",
       "      <th>2008-09</th>\n",
       "      <td>184</td>\n",
       "    </tr>\n",
       "    <tr>\n",
       "      <th>2011-12</th>\n",
       "      <td>184</td>\n",
       "    </tr>\n",
       "    <tr>\n",
       "      <th>2012-13</th>\n",
       "      <td>184</td>\n",
       "    </tr>\n",
       "    <tr>\n",
       "      <th>2003-04</th>\n",
       "      <td>183</td>\n",
       "    </tr>\n",
       "    <tr>\n",
       "      <th>2002-03</th>\n",
       "      <td>183</td>\n",
       "    </tr>\n",
       "    <tr>\n",
       "      <th>2001-02</th>\n",
       "      <td>183</td>\n",
       "    </tr>\n",
       "    <tr>\n",
       "      <th>2007-08</th>\n",
       "      <td>182</td>\n",
       "    </tr>\n",
       "    <tr>\n",
       "      <th>2006-07</th>\n",
       "      <td>182</td>\n",
       "    </tr>\n",
       "    <tr>\n",
       "      <th>2005-06</th>\n",
       "      <td>182</td>\n",
       "    </tr>\n",
       "    <tr>\n",
       "      <th>2000-01</th>\n",
       "      <td>182</td>\n",
       "    </tr>\n",
       "    <tr>\n",
       "      <th>1999-00</th>\n",
       "      <td>180</td>\n",
       "    </tr>\n",
       "    <tr>\n",
       "      <th>1980-81</th>\n",
       "      <td>180</td>\n",
       "    </tr>\n",
       "    <tr>\n",
       "      <th>1981-82</th>\n",
       "      <td>180</td>\n",
       "    </tr>\n",
       "    <tr>\n",
       "      <th>1997-98</th>\n",
       "      <td>180</td>\n",
       "    </tr>\n",
       "    <tr>\n",
       "      <th>1982-83</th>\n",
       "      <td>180</td>\n",
       "    </tr>\n",
       "    <tr>\n",
       "      <th>1983-84</th>\n",
       "      <td>180</td>\n",
       "    </tr>\n",
       "    <tr>\n",
       "      <th>1984-85</th>\n",
       "      <td>180</td>\n",
       "    </tr>\n",
       "    <tr>\n",
       "      <th>1985-86</th>\n",
       "      <td>180</td>\n",
       "    </tr>\n",
       "    <tr>\n",
       "      <th>1986-87</th>\n",
       "      <td>180</td>\n",
       "    </tr>\n",
       "    <tr>\n",
       "      <th>1987-88</th>\n",
       "      <td>180</td>\n",
       "    </tr>\n",
       "    <tr>\n",
       "      <th>1988-89</th>\n",
       "      <td>180</td>\n",
       "    </tr>\n",
       "    <tr>\n",
       "      <th>1989-90</th>\n",
       "      <td>180</td>\n",
       "    </tr>\n",
       "    <tr>\n",
       "      <th>1993-94</th>\n",
       "      <td>180</td>\n",
       "    </tr>\n",
       "    <tr>\n",
       "      <th>1994-95</th>\n",
       "      <td>180</td>\n",
       "    </tr>\n",
       "    <tr>\n",
       "      <th>1995-96</th>\n",
       "      <td>180</td>\n",
       "    </tr>\n",
       "    <tr>\n",
       "      <th>1996-97</th>\n",
       "      <td>180</td>\n",
       "    </tr>\n",
       "    <tr>\n",
       "      <th>1998-99</th>\n",
       "      <td>180</td>\n",
       "    </tr>\n",
       "    <tr>\n",
       "      <th>1990-91</th>\n",
       "      <td>174</td>\n",
       "    </tr>\n",
       "    <tr>\n",
       "      <th>1991-92</th>\n",
       "      <td>174</td>\n",
       "    </tr>\n",
       "    <tr>\n",
       "      <th>1992-93</th>\n",
       "      <td>174</td>\n",
       "    </tr>\n",
       "  </tbody>\n",
       "</table>\n",
       "</div>"
      ],
      "text/plain": [
       "         Value\n",
       "Year          \n",
       "0         1964\n",
       "2015-16    186\n",
       "2014-15    186\n",
       "2013-14    186\n",
       "2010-11    184\n",
       "2004-05    184\n",
       "2009-10    184\n",
       "2008-09    184\n",
       "2011-12    184\n",
       "2012-13    184\n",
       "2003-04    183\n",
       "2002-03    183\n",
       "2001-02    183\n",
       "2007-08    182\n",
       "2006-07    182\n",
       "2005-06    182\n",
       "2000-01    182\n",
       "1999-00    180\n",
       "1980-81    180\n",
       "1981-82    180\n",
       "1997-98    180\n",
       "1982-83    180\n",
       "1983-84    180\n",
       "1984-85    180\n",
       "1985-86    180\n",
       "1986-87    180\n",
       "1987-88    180\n",
       "1988-89    180\n",
       "1989-90    180\n",
       "1993-94    180\n",
       "1994-95    180\n",
       "1995-96    180\n",
       "1996-97    180\n",
       "1998-99    180\n",
       "1990-91    174\n",
       "1991-92    174\n",
       "1992-93    174"
      ]
     },
     "execution_count": 45,
     "metadata": {},
     "output_type": "execute_result"
    }
   ],
   "source": [
    "exp_data.Year.value_counts().to_frame('Value')"
   ]
  },
  {
   "cell_type": "code",
   "execution_count": 58,
   "id": "c50f6b9e",
   "metadata": {},
   "outputs": [
    {
     "data": {
      "image/png": "[encoded data removed]",
      "text/plain": [
       "<Figure size 1200x600 with 1 Axes>"
      ]
     },
     "metadata": {},
     "output_type": "display_data"
    }
   ],
   "source": [
    "\n",
    "# Set the figure size for better visibility\n",
    "plt.figure(figsize=(12, 6))\n",
    "\n",
    "sns.countplot(x=exp_data['Year'],orient='v')\n",
    "plt.xticks(rotation=90)\n",
    "sns.set(rc={'figure.figsize':(30,30)})"
   ]
  },
  {
   "cell_type": "markdown",
   "id": "8eccc0b3",
   "metadata": {},
   "source": [
    "- Anual progress of expenditure."
   ]
  },
  {
   "cell_type": "markdown",
   "id": "9b6d8b7e",
   "metadata": {},
   "source": [
    "## 6. Conclusion:\n",
    "This project focused on analyzing expenditure data from the Niti Aayog website. The process involved several key steps:\n",
    "\n",
    "**Data Collection**: Expenditure dataset was obtained from the Niti Aayog website.\n",
    "\n",
    "**Data Processing**: The dataset was loaded and cleaned using Python.\n",
    "\n",
    "**Exploratory Data Analysis (EDA)**: Comprehensive EDA was performed using various Python libraries including pandas, numpy, matplotlib, seaborn, and pandas_profiling.\n",
    "\n",
    "**Visualization**: The data was visualized using various techniques such as heatmaps, countplots, and other graphs to gain insights.\n",
    "\n",
    "**Data Export**: A clean dataset named 'expenditure1.csv' was extracted from the EDA process, prepared for further data visualization tasks.\n",
    "\n",
    "This analysis provides a solid foundation for understanding expenditure patterns and trends, offering valuable insights that can inform decision-making processes. The cleaned dataset (expenditure1.csv) is now ready for more advanced data visualization and analysis techniques, enabling deeper exploration of expenditure data across different categories and time periods.\n",
    "<a id=section6></a>"
   ]
  }
 ],
 "metadata": {
  "kernelspec": {
   "display_name": "ineuronEnv",
   "language": "python",
   "name": "python3"
  },
  "language_info": {
   "codemirror_mode": {
    "name": "ipython",
    "version": 3
   },
   "file_extension": ".py",
   "mimetype": "text/x-python",
   "name": "python",
   "nbconvert_exporter": "python",
   "pygments_lexer": "ipython3",
   "version": "3.9.19"
  }
 },
 "nbformat": 4,
 "nbformat_minor": 5
}
